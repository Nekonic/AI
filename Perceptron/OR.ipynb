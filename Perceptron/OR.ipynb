{
  "cells": [
    {
      "cell_type": "code",
      "execution_count": 1,
      "metadata": {
        "id": "4gGz_oUfhnoE"
      },
      "outputs": [],
      "source": [
        "import numpy as np"
      ]
    },
    {
      "cell_type": "code",
      "execution_count": 3,
      "metadata": {
        "id": "IC_gF_cYh81_"
      },
      "outputs": [],
      "source": [
        "class Perceptron:\n",
        "    def __init__(self, N, alpha):\n",
        "        self.W = np.ones(N+1)\n",
        "        self.alpha = alpha\n",
        "\n",
        "    def sigmoid(self, x):\n",
        "        return 1.0 / (1 + np.exp(-x))\n",
        "\n",
        "    def training(self, X, y, iters):\n",
        "        X = np.c_[X, np.ones(X.shape[0])]\n",
        "        for i in range(iters):\n",
        "            for (x, Y_) in zip(X, y):\n",
        "                Y = self.sigmoid(x @ self.W)\n",
        "                if Y != Y_:\n",
        "                    error = Y - Y_\n",
        "                    self.W += -self.alpha*error*x\n",
        "\n",
        "    def predict(self, X):\n",
        "        X = np.atleast_2d(X)\n",
        "        X = np.c_[X, np.ones(1)]\n",
        "        p = self.sigmoid(X @ self.W)\n",
        "        print(p)"
      ]
    },
    {
      "cell_type": "code",
      "execution_count": 4,
      "metadata": {
        "colab": {
          "base_uri": "https://localhost:8080/"
        },
        "id": "A6GkdYcViv4V",
        "outputId": "b0fffafb-ca86-4777-829e-8cad16e7fe80"
      },
      "outputs": [
        {
          "name": "stdout",
          "output_type": "stream",
          "text": [
            "[1. 1. 1.]\n",
            "(3,)\n"
          ]
        }
      ],
      "source": [
        "per = Perceptron(2, 0.5)\n",
        "print(per.W)\n",
        "print(per.W.shape)"
      ]
    },
    {
      "cell_type": "code",
      "execution_count": 16,
      "metadata": {
        "id": "PrP1OJa8Ztz9"
      },
      "outputs": [],
      "source": [
        "X = np.array([[0, 0], [0, 1], [1, 0], [1, 1]])\n",
        "Y = np.array([[0], [1], [1], [1]])\n",
        "per.training(X, Y, 100)"
      ]
    },
    {
      "cell_type": "code",
      "execution_count": 17,
      "metadata": {
        "colab": {
          "base_uri": "https://localhost:8080/"
        },
        "id": "OzfzzhK-jDSE",
        "outputId": "822ac722-e669-4845-e951-dac7444f6774"
      },
      "outputs": [
        {
          "name": "stdout",
          "output_type": "stream",
          "text": [
            "[0.0202065]\n"
          ]
        },
        {
          "data": {
            "text/plain": [
              "array([ 8.69791811,  8.7056112 , -3.88133745])"
            ]
          },
          "execution_count": 17,
          "metadata": {},
          "output_type": "execute_result"
        }
      ],
      "source": [
        "x = np.array([0,0])\n",
        "per.predict(x)\n",
        "per.W"
      ]
    },
    {
      "cell_type": "code",
      "execution_count": 148,
      "metadata": {
        "colab": {
          "base_uri": "https://localhost:8080/"
        },
        "id": "gGR85Ee2jGNB",
        "outputId": "92203b88-ab4a-4af5-c52e-1cb7cbd8b8d0"
      },
      "outputs": [
        {
          "name": "stdout",
          "output_type": "stream",
          "text": [
            "[0.96255333]\n"
          ]
        }
      ],
      "source": [
        "x = np.array([1,0])\n",
        "per.predict(x)"
      ]
    },
    {
      "cell_type": "code",
      "execution_count": 149,
      "metadata": {
        "colab": {
          "base_uri": "https://localhost:8080/"
        },
        "id": "Um2z5w5ijIqN",
        "outputId": "16f5e653-563c-48da-893d-b113e08fbede"
      },
      "outputs": [
        {
          "name": "stdout",
          "output_type": "stream",
          "text": [
            "[0.9636681]\n"
          ]
        }
      ],
      "source": [
        "x = np.array([0,1])\n",
        "per.predict(x)"
      ]
    },
    {
      "cell_type": "code",
      "execution_count": 150,
      "metadata": {
        "colab": {
          "base_uri": "https://localhost:8080/"
        },
        "id": "-RwICq6LjMlr",
        "outputId": "4cdffba9-5d50-4f06-d6fe-b1af86db2ff3"
      },
      "outputs": [
        {
          "name": "stdout",
          "output_type": "stream",
          "text": [
            "[0.99984224]\n"
          ]
        }
      ],
      "source": [
        "x = np.array([1,1])\n",
        "per.predict(x)\n",
        "   "
      ]
    }
  ],
  "metadata": {
    "colab": {
      "collapsed_sections": [],
      "name": "perceptron_and.ipynb",
      "provenance": []
    },
    "kernelspec": {
      "display_name": "Python 3",
      "name": "python3"
    },
    "language_info": {
      "codemirror_mode": {
        "name": "ipython",
        "version": 3
      },
      "file_extension": ".py",
      "mimetype": "text/x-python",
      "name": "python",
      "nbconvert_exporter": "python",
      "pygments_lexer": "ipython3",
      "version": "3.11.4"
    }
  },
  "nbformat": 4,
  "nbformat_minor": 0
}
