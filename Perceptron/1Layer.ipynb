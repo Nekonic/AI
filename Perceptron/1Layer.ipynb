{
 "cells": [
  {
   "cell_type": "code",
   "execution_count": 1,
   "metadata": {
    "ExecuteTime": {
     "end_time": "2024-06-26T11:30:45.611693900Z",
     "start_time": "2024-06-26T11:30:45.472986900Z"
    }
   },
   "outputs": [],
   "source": [
    "import numpy as np\n",
    "from collections import OrderedDict"
   ]
  },
  {
   "cell_type": "code",
   "execution_count": 93,
   "outputs": [],
   "source": [
    "def numerical_gradient(f, x):\n",
    "    h = 1e-4 # 0.0001\n",
    "    grad = np.zeros_like(x)\n",
    "\n",
    "    it = np.nditer(x, flags=['multi_index'], op_flags=['readwrite'])\n",
    "    while not it.finished:\n",
    "        idx = it.multi_index\n",
    "        tmp_val = x[idx]\n",
    "        x[idx] = float(tmp_val) + h\n",
    "        fxh1 = f(x) # f(x+h)\n",
    "\n",
    "        x[idx] = tmp_val - h\n",
    "        fxh2 = f(x) # f(x-h)\n",
    "        grad[idx] = (fxh1 - fxh2) / (2*h)\n",
    "\n",
    "        x[idx] = tmp_val # 값 복원\n",
    "        it.iternext()\n",
    "    return grad\n",
    "\n",
    "def sigmoid(x):\n",
    "    return 1 / (1 + np.exp(-x))\n",
    "\n",
    "\n",
    "def sigmoid_grad(x):\n",
    "    return (1.0 - sigmoid(x)) * sigmoid(x)\n",
    "\n",
    "def MSELoss(self, y, t):\n",
    "    return 0.5 * np.sum((y-t)**2)\n"
   ],
   "metadata": {
    "collapsed": false,
    "ExecuteTime": {
     "end_time": "2024-06-26T12:07:21.473691700Z",
     "start_time": "2024-06-26T12:07:21.470174800Z"
    }
   }
  },
  {
   "cell_type": "code",
   "execution_count": 102,
   "outputs": [],
   "source": [
    "class Sigmoid:\n",
    "    def __init__(self):\n",
    "        self.out = None\n",
    "\n",
    "    def forward(self, x):\n",
    "        out = sigmoid(x)\n",
    "        self.out = out\n",
    "        return out\n",
    "\n",
    "    def backward(self, dout):\n",
    "        dx = dout * (1.0 - self.out) * self.out\n",
    "\n",
    "        return dx\n",
    "\n",
    "class Affine:\n",
    "    def __init__(self, W, b):\n",
    "        self.W = W\n",
    "        self.b = b\n",
    "\n",
    "        self.x = None\n",
    "        self.original_x_shape = None\n",
    "        # 가중치와 편향 매개변수의 미분\n",
    "        self.dW = None\n",
    "        self.db = None\n",
    "\n",
    "    def forward(self, x):\n",
    "        self.original_x_shape = x.shape\n",
    "        x = x.reshape(x.shape[0], -1)\n",
    "        self.x = x\n",
    "        \n",
    "        print('x = ',self.x, self.x.shape)\n",
    "        print('w = ',self.W, self.W.shape)\n",
    "        print('b = ',self.b, self.b.shape)\n",
    "        out = self.x@self.W + self.b\n",
    "\n",
    "        return out\n",
    "\n",
    "    def backward(self, dout):\n",
    "        dx = np.dot(dout, self.W.T)\n",
    "        self.dW = np.dot(self.x.T, dout)\n",
    "        self.db = np.sum(dout, axis=0)\n",
    "\n",
    "        dx = dx.reshape(*self.original_x_shape)  # 입력 데이터 모양 변경(텐서 대응)\n",
    "        return dx\n"
   ],
   "metadata": {
    "collapsed": false,
    "ExecuteTime": {
     "end_time": "2024-06-26T12:08:32.137151300Z",
     "start_time": "2024-06-26T12:08:32.130235600Z"
    }
   }
  },
  {
   "cell_type": "code",
   "execution_count": 103,
   "metadata": {
    "ExecuteTime": {
     "end_time": "2024-06-26T12:08:32.304577200Z",
     "start_time": "2024-06-26T12:08:32.292782300Z"
    }
   },
   "outputs": [],
   "source": [
    "class Network:\n",
    "    def __init__(self, N, alpha):\n",
    "        self.alpha = alpha\n",
    "\n",
    "        self.params = {}\n",
    "        \n",
    "        self.params['W1'] = np.random.randn(2,N)\n",
    "        self.params['b1'] = np.zeros(N)\n",
    "        self.params['W2'] = np.random.randn(N,1)\n",
    "        self.params['b2'] = np.zeros(1)\n",
    "\n",
    "        self.layers = OrderedDict()\n",
    "        self.layers['Affine1'] = Affine(self.params['W1'], self.params['b1'])\n",
    "        self.layers['Relu1'] = Sigmoid()\n",
    "        self.layers['Affine2'] = Affine(self.params['W2'], self.params['b2'])\n",
    "        \n",
    "        self.lastLayer = Sigmoid()\n",
    "        \n",
    "        \n",
    "    def predict(self, x):\n",
    "        for layer in self.layers.values():\n",
    "            x = layer.forward(x)\n",
    "\n",
    "        return x\n",
    "\n",
    "\n",
    "    def loss(self, x, t):\n",
    "        y = self.predict(x)\n",
    "        return self.lastLayer.forward(y-t)\n",
    "    \n",
    "    def numerical_gradient(self, x, t):\n",
    "        loss_W = lambda W: self.loss(x, t)\n",
    "\n",
    "        grads = {}\n",
    "        grads['W1'] = numerical_gradient(loss_W, self.params['W1'])\n",
    "        grads['b1'] = numerical_gradient(loss_W, self.params['b1'])\n",
    "        grads['W2'] = numerical_gradient(loss_W, self.params['W2'])\n",
    "        grads['b2'] = numerical_gradient(loss_W, self.params['b2'])\n",
    "\n",
    "        return grads\n",
    "\n",
    "    def gradient(self, x, t):\n",
    "        self.loss(x, t)\n",
    "\n",
    "        # backward\n",
    "        dout = 1\n",
    "        dout = self.lastLayer.backward(dout)\n",
    "\n",
    "        layers = list(self.layers.values())\n",
    "        layers.reverse()\n",
    "        for layer in layers:\n",
    "            dout = layer.backward(dout)\n",
    "\n",
    "        # 결과 저장\n",
    "        grads = {}\n",
    "        grads['W1'], grads['b1'] = self.layers['Affine1'].dW, self.layers['Affine1'].db\n",
    "\n",
    "        return grads\n",
    "\n",
    "\n",
    "    def training(self, X, y, iters):\n",
    "        for i in range(iters):\n",
    "            print(i)\n",
    "            for (x, Y_) in zip(X, y):\n",
    "                # self.numerical_gradient(x,Y_)\n",
    "                print('x = ',x)\n",
    "                print('y = ',Y_)\n",
    "                print('W = ',self.params['W1'])\n",
    "                print('b = ',self.params['b1'])\n",
    "                self.predict(x)\n",
    "                self.gradient(x,Y_)"
   ]
  },
  {
   "cell_type": "code",
   "execution_count": 104,
   "metadata": {
    "ExecuteTime": {
     "end_time": "2024-06-26T12:08:32.460015Z",
     "start_time": "2024-06-26T12:08:32.451703400Z"
    }
   },
   "outputs": [
    {
     "name": "stdout",
     "output_type": "stream",
     "text": [
      "W1 =  [[ 0.23411074  1.37953705  1.1092132 ]\n",
      " [-0.05986979 -1.40967788 -1.02200051]]\n",
      "(2, 3)\n",
      "W2 =  [[-0.06894541]\n",
      " [ 0.22807299]\n",
      " [ 0.35436502]]\n",
      "(3, 1)\n",
      "b1 =  [0. 0. 0.]\n",
      "(3,)\n",
      "b2 =  [0.]\n",
      "(1,)\n",
      "\n"
     ]
    }
   ],
   "source": [
    "Neuron = Network(3, 0.03)\n",
    "print('W1 = ',Neuron.params['W1'])\n",
    "print(Neuron.params['W1'].shape)\n",
    "print('W2 = ',Neuron.params['W2'])\n",
    "print(Neuron.params['W2'].shape)\n",
    "print('b1 = ',Neuron.params['b1'])\n",
    "print(Neuron.params['b1'].shape)\n",
    "print('b2 = ',Neuron.params['b2'])\n",
    "print(Neuron.params['b2'].shape)\n",
    "print('\\n\\n\\n')\n",
    "\n",
    "#print(Neuron.diff2(Neuron.MSELoss,Neuron.params['W1']))"
   ]
  },
  {
   "cell_type": "code",
   "execution_count": 105,
   "metadata": {
    "ExecuteTime": {
     "end_time": "2024-06-26T12:08:33.105916200Z",
     "start_time": "2024-06-26T12:08:33.044726400Z"
    }
   },
   "outputs": [
    {
     "name": "stdout",
     "output_type": "stream",
     "text": [
      "0\n",
      "x =  [0 0]\n",
      "y =  [0]\n",
      "W =  [[ 0.23411074  1.37953705  1.1092132 ]\n",
      " [-0.05986979 -1.40967788 -1.02200051]]\n",
      "b =  [0. 0. 0.]\n",
      "x =  [[0]\n",
      " [0]] (2, 1)\n",
      "w =  [[ 0.23411074  1.37953705  1.1092132 ]\n",
      " [-0.05986979 -1.40967788 -1.02200051]] (2, 3)\n",
      "b =  [0. 0. 0.] (3,)\n"
     ]
    },
    {
     "ename": "ValueError",
     "evalue": "matmul: Input operand 1 has a mismatch in its core dimension 0, with gufunc signature (n?,k),(k,m?)->(n?,m?) (size 2 is different from 1)",
     "output_type": "error",
     "traceback": [
      "\u001B[1;31m---------------------------------------------------------------------------\u001B[0m",
      "\u001B[1;31mValueError\u001B[0m                                Traceback (most recent call last)",
      "Cell \u001B[1;32mIn[105], line 3\u001B[0m\n\u001B[0;32m      1\u001B[0m X \u001B[38;5;241m=\u001B[39m np\u001B[38;5;241m.\u001B[39marray([[\u001B[38;5;241m0\u001B[39m, \u001B[38;5;241m0\u001B[39m], [\u001B[38;5;241m0\u001B[39m, \u001B[38;5;241m1\u001B[39m], [\u001B[38;5;241m1\u001B[39m, \u001B[38;5;241m0\u001B[39m], [\u001B[38;5;241m1\u001B[39m, \u001B[38;5;241m1\u001B[39m]])\n\u001B[0;32m      2\u001B[0m Y \u001B[38;5;241m=\u001B[39m np\u001B[38;5;241m.\u001B[39marray([[\u001B[38;5;241m0\u001B[39m], [\u001B[38;5;241m1\u001B[39m], [\u001B[38;5;241m1\u001B[39m], [\u001B[38;5;241m1\u001B[39m]])\n\u001B[1;32m----> 3\u001B[0m Neuron\u001B[38;5;241m.\u001B[39mtraining(X, Y, \u001B[38;5;241m1\u001B[39m)\n",
      "Cell \u001B[1;32mIn[103], line 70\u001B[0m, in \u001B[0;36mNetwork.training\u001B[1;34m(self, X, y, iters)\u001B[0m\n\u001B[0;32m     68\u001B[0m \u001B[38;5;28mprint\u001B[39m(\u001B[38;5;124m'\u001B[39m\u001B[38;5;124mW = \u001B[39m\u001B[38;5;124m'\u001B[39m,\u001B[38;5;28mself\u001B[39m\u001B[38;5;241m.\u001B[39mparams[\u001B[38;5;124m'\u001B[39m\u001B[38;5;124mW1\u001B[39m\u001B[38;5;124m'\u001B[39m])\n\u001B[0;32m     69\u001B[0m \u001B[38;5;28mprint\u001B[39m(\u001B[38;5;124m'\u001B[39m\u001B[38;5;124mb = \u001B[39m\u001B[38;5;124m'\u001B[39m,\u001B[38;5;28mself\u001B[39m\u001B[38;5;241m.\u001B[39mparams[\u001B[38;5;124m'\u001B[39m\u001B[38;5;124mb1\u001B[39m\u001B[38;5;124m'\u001B[39m])\n\u001B[1;32m---> 70\u001B[0m \u001B[38;5;28mself\u001B[39m\u001B[38;5;241m.\u001B[39mpredict(x)\n\u001B[0;32m     71\u001B[0m \u001B[38;5;28mself\u001B[39m\u001B[38;5;241m.\u001B[39mgradient(x,Y_)\n",
      "Cell \u001B[1;32mIn[103], line 22\u001B[0m, in \u001B[0;36mNetwork.predict\u001B[1;34m(self, x)\u001B[0m\n\u001B[0;32m     20\u001B[0m \u001B[38;5;28;01mdef\u001B[39;00m \u001B[38;5;21mpredict\u001B[39m(\u001B[38;5;28mself\u001B[39m, x):\n\u001B[0;32m     21\u001B[0m     \u001B[38;5;28;01mfor\u001B[39;00m layer \u001B[38;5;129;01min\u001B[39;00m \u001B[38;5;28mself\u001B[39m\u001B[38;5;241m.\u001B[39mlayers\u001B[38;5;241m.\u001B[39mvalues():\n\u001B[1;32m---> 22\u001B[0m         x \u001B[38;5;241m=\u001B[39m layer\u001B[38;5;241m.\u001B[39mforward(x)\n\u001B[0;32m     24\u001B[0m     \u001B[38;5;28;01mreturn\u001B[39;00m x\n",
      "Cell \u001B[1;32mIn[102], line 34\u001B[0m, in \u001B[0;36mAffine.forward\u001B[1;34m(self, x)\u001B[0m\n\u001B[0;32m     32\u001B[0m \u001B[38;5;28mprint\u001B[39m(\u001B[38;5;124m'\u001B[39m\u001B[38;5;124mw = \u001B[39m\u001B[38;5;124m'\u001B[39m,\u001B[38;5;28mself\u001B[39m\u001B[38;5;241m.\u001B[39mW, \u001B[38;5;28mself\u001B[39m\u001B[38;5;241m.\u001B[39mW\u001B[38;5;241m.\u001B[39mshape)\n\u001B[0;32m     33\u001B[0m \u001B[38;5;28mprint\u001B[39m(\u001B[38;5;124m'\u001B[39m\u001B[38;5;124mb = \u001B[39m\u001B[38;5;124m'\u001B[39m,\u001B[38;5;28mself\u001B[39m\u001B[38;5;241m.\u001B[39mb, \u001B[38;5;28mself\u001B[39m\u001B[38;5;241m.\u001B[39mb\u001B[38;5;241m.\u001B[39mshape)\n\u001B[1;32m---> 34\u001B[0m out \u001B[38;5;241m=\u001B[39m \u001B[38;5;28mself\u001B[39m\u001B[38;5;241m.\u001B[39mx\u001B[38;5;129m@self\u001B[39m\u001B[38;5;241m.\u001B[39mW \u001B[38;5;241m+\u001B[39m \u001B[38;5;28mself\u001B[39m\u001B[38;5;241m.\u001B[39mb\n\u001B[0;32m     36\u001B[0m \u001B[38;5;28;01mreturn\u001B[39;00m out\n",
      "\u001B[1;31mValueError\u001B[0m: matmul: Input operand 1 has a mismatch in its core dimension 0, with gufunc signature (n?,k),(k,m?)->(n?,m?) (size 2 is different from 1)"
     ]
    }
   ],
   "source": [
    "X = np.array([[0, 0], [0, 1], [1, 0], [1, 1]])\n",
    "Y = np.array([[0], [1], [1], [1]])\n",
    "Neuron.training(X, Y, 1)"
   ]
  },
  {
   "cell_type": "code",
   "execution_count": 58,
   "metadata": {
    "ExecuteTime": {
     "end_time": "2024-06-26T11:48:59.233160700Z",
     "start_time": "2024-06-26T11:48:59.209223900Z"
    }
   },
   "outputs": [
    {
     "name": "stdout",
     "output_type": "stream",
     "text": [
      "self.x: [0 0]\n",
      "self.W: [[-0.2965295   0.43182406 -0.26991567]\n",
      " [ 0.77626428 -0.249126    0.29819814]]\n",
      "self.b: [0. 0. 0.]\n",
      "self.x: [0.5 0.5 0.5]\n",
      "self.W: []\n",
      "self.b: []\n",
      "[]\n",
      "self.x: [0 1]\n",
      "self.W: [[-0.2965295   0.43182406 -0.26991567]\n",
      " [ 0.77626428 -0.249126    0.29819814]]\n",
      "self.b: [0. 0. 0.]\n",
      "self.x: [0.68487442 0.43803863 0.57400198]\n",
      "self.W: []\n",
      "self.b: []\n",
      "[]\n",
      "self.x: [1 0]\n",
      "self.W: [[-0.2965295   0.43182406 -0.26991567]\n",
      " [ 0.77626428 -0.249126    0.29819814]]\n",
      "self.b: [0. 0. 0.]\n",
      "self.x: [0.42640609 0.60630915 0.4329278 ]\n",
      "self.W: []\n",
      "self.b: []\n",
      "[]\n",
      "self.x: [1 1]\n",
      "self.W: [[-0.2965295   0.43182406 -0.26991567]\n",
      " [ 0.77626428 -0.249126    0.29819814]]\n",
      "self.b: [0. 0. 0.]\n",
      "self.x: [0.61768524 0.54554789 0.50707015]\n",
      "self.W: []\n",
      "self.b: []\n",
      "[]\n",
      "[[-0.2965295   0.43182406 -0.26991567]\n",
      " [ 0.77626428 -0.249126    0.29819814]] (2, 3)\n",
      "[0. 0. 0.] (3,)\n"
     ]
    }
   ],
   "source": [
    "X = np.array([[0, 0], [0, 1], [1, 0], [1, 1]])\n",
    "for x in X:\n",
    "    print(Neuron.predict(x))\n",
    "print(Neuron.params['W1'],Neuron.params['W1'].shape)\n",
    "print(Neuron.params['b1'],Neuron.params['b1'].shape)"
   ]
  },
  {
   "cell_type": "code",
   "execution_count": 8,
   "metadata": {
    "ExecuteTime": {
     "end_time": "2024-06-20T15:20:06.798788900Z",
     "start_time": "2024-06-20T15:20:06.777180100Z"
    }
   },
   "outputs": [],
   "source": []
  }
 ],
 "metadata": {
  "kernelspec": {
   "display_name": "Python 3",
   "language": "python",
   "name": "python3"
  },
  "language_info": {
   "codemirror_mode": {
    "name": "ipython",
    "version": 3
   },
   "file_extension": ".py",
   "mimetype": "text/x-python",
   "name": "python",
   "nbconvert_exporter": "python",
   "pygments_lexer": "ipython3",
   "version": "3.11.5"
  }
 },
 "nbformat": 4,
 "nbformat_minor": 2
}
